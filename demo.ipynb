{
 "cells": [
  {
   "cell_type": "code",
   "execution_count": 1,
   "metadata": {},
   "outputs": [],
   "source": [
    "from updated_custom_agent import ReActAgent\n",
    "\n"
   ]
  },
  {
   "cell_type": "code",
   "execution_count": 2,
   "metadata": {},
   "outputs": [
    {
     "ename": "PermissionError",
     "evalue": "[Errno 13] Permission denied: '/root/eval-react-prompts/prompts/prompt.txt'",
     "output_type": "error",
     "traceback": [
      "\u001b[0;31m---------------------------------------------------------------------------\u001b[0m",
      "\u001b[0;31mPermissionError\u001b[0m                           Traceback (most recent call last)",
      "Cell \u001b[0;32mIn[2], line 1\u001b[0m\n\u001b[0;32m----> 1\u001b[0m react_agent_obj \u001b[39m=\u001b[39m ReActAgent()\n",
      "File \u001b[0;32m~/NLP/eval-react-prompts/updated_custom_agent.py:181\u001b[0m, in \u001b[0;36mReActAgent.__init__\u001b[0;34m(self)\u001b[0m\n\u001b[1;32m    178\u001b[0m chat_gpt \u001b[39m=\u001b[39m \u001b[39mTrue\u001b[39;00m\n\u001b[1;32m    180\u001b[0m \u001b[39m# read from txt file\u001b[39;00m\n\u001b[0;32m--> 181\u001b[0m \u001b[39mwith\u001b[39;00m \u001b[39mopen\u001b[39;49m(\u001b[39m\"\u001b[39;49m\u001b[39m/root/eval-react-prompts/prompts/prompt.txt\u001b[39;49m\u001b[39m\"\u001b[39;49m, \u001b[39m\"\u001b[39;49m\u001b[39mr\u001b[39;49m\u001b[39m\"\u001b[39;49m) \u001b[39mas\u001b[39;00m f:\n\u001b[1;32m    182\u001b[0m     template \u001b[39m=\u001b[39m f\u001b[39m.\u001b[39mread()     \n\u001b[1;32m    184\u001b[0m \u001b[39mif\u001b[39;00m chat_gpt:\n",
      "\u001b[0;31mPermissionError\u001b[0m: [Errno 13] Permission denied: '/root/eval-react-prompts/prompts/prompt.txt'"
     ]
    }
   ],
   "source": [
    "react_agent_obj = ReActAgent()"
   ]
  },
  {
   "cell_type": "code",
   "execution_count": 3,
   "metadata": {},
   "outputs": [
    {
     "ename": "NameError",
     "evalue": "name 'react_agent_obj' is not defined",
     "output_type": "error",
     "traceback": [
      "\u001b[0;31m---------------------------------------------------------------------------\u001b[0m",
      "\u001b[0;31mNameError\u001b[0m                                 Traceback (most recent call last)",
      "Cell \u001b[0;32mIn[3], line 3\u001b[0m\n\u001b[1;32m      1\u001b[0m \u001b[39m# Get the list of tools and their descriptions \u001b[39;00m\n\u001b[0;32m----> 3\u001b[0m tools_str \u001b[39m=\u001b[39m [\u001b[39mf\u001b[39m\u001b[39m\"\u001b[39m\u001b[39mTool: \u001b[39m\u001b[39m{\u001b[39;00mtool\u001b[39m.\u001b[39mname\u001b[39m}\u001b[39;00m\u001b[39m Tool Description \u001b[39m\u001b[39m{\u001b[39;00mtool\u001b[39m.\u001b[39mdescription\u001b[39m}\u001b[39;00m\u001b[39m\"\u001b[39m \u001b[39mfor\u001b[39;00m tool \u001b[39min\u001b[39;00m react_agent_obj\u001b[39m.\u001b[39mtools]\n",
      "\u001b[0;31mNameError\u001b[0m: name 'react_agent_obj' is not defined"
     ]
    }
   ],
   "source": [
    "# Get the list of tools and their descriptions \n",
    "\n",
    "tools_str = [f\"Tool: {tool.name} Tool Description {tool.description}\" for tool in react_agent_obj.tools]"
   ]
  },
  {
   "cell_type": "code",
   "execution_count": 4,
   "metadata": {},
   "outputs": [],
   "source": [
    "tools_str_ip = \"\\n\".join(tools_str)"
   ]
  },
  {
   "cell_type": "code",
   "execution_count": 6,
   "metadata": {},
   "outputs": [
    {
     "data": {
      "text/plain": [
       "\"Tool: arxiv Tool Description I use this format: |1605.08386|. I use this tool for reading research papers. (For reading abstract or summary or release date.)\\nTool: wikipedia Tool Description Wikipedia is a multilingual free online encyclopedia written and maintained by a community of volunteers, known as Wikipedians, through open collaboration and using a wiki-based editing system called MediaWiki. Wikipedia is the largest and most-read reference work in history.\\nTool: Python_Repl Tool Description useful for when you need to use python to answer a question. You should input python code\\nTool: random_tool Tool Description Useful for when you need to get a random number. input should be 'random'\\nTool: DuckSearch Tool Description Useful for when you need to do a search on the internet to find information that another tool can't find. be specific with your input\\nTool: Calculator Tool Description useful for when you need to answer questions about math\""
      ]
     },
     "execution_count": 6,
     "metadata": {},
     "output_type": "execute_result"
    }
   ],
   "source": [
    "tools_str_ip"
   ]
  },
  {
   "cell_type": "code",
   "execution_count": null,
   "metadata": {},
   "outputs": [],
   "source": []
  },
  {
   "cell_type": "code",
   "execution_count": 3,
   "metadata": {},
   "outputs": [],
   "source": [
    "str_output = \"I got the answer. Now, I will provide it to the user.\\n### Final Answer: Barack Obama's age is 62. When I multiply it by 3, I get 186. \\n\\n### Question:\""
   ]
  },
  {
   "cell_type": "code",
   "execution_count": 7,
   "metadata": {},
   "outputs": [
    {
     "ename": "TypeError",
     "evalue": "must be str or None, not list",
     "output_type": "error",
     "traceback": [
      "\u001b[0;31m---------------------------------------------------------------------------\u001b[0m",
      "\u001b[0;31mTypeError\u001b[0m                                 Traceback (most recent call last)",
      "Cell \u001b[0;32mIn[7], line 1\u001b[0m\n\u001b[0;32m----> 1\u001b[0m \u001b[39m\"\u001b[39m\u001b[39m\"\u001b[39m\u001b[39m.\u001b[39mjoin(str_output\u001b[39m.\u001b[39;49msplit([\u001b[39m\"\u001b[39;49m\u001b[39m### Observation:\u001b[39;49m\u001b[39m\"\u001b[39;49m,\u001b[39m\"\u001b[39;49m\u001b[39m### Question:\u001b[39;49m\u001b[39m\"\u001b[39;49m]))\n",
      "\u001b[0;31mTypeError\u001b[0m: must be str or None, not list"
     ]
    }
   ],
   "source": [
    "\"\".join(str_output.split([\"### Observation:\",\"### Question:\"]))"
   ]
  },
  {
   "cell_type": "code",
   "execution_count": 12,
   "metadata": {},
   "outputs": [],
   "source": [
    "pload = {}\n",
    "pload[\"stop\"] = [\"### Observation:\",\"### Question:\"]\n",
    "def clean_prompt(input_text):\n",
    "    response_output = input_text.strip()      \n",
    "    lines = response_output.split('\\n')\n",
    "\n",
    "    # Remove the stop words from the end of the lines\n",
    "    while lines and lines[-1].strip() in pload[\"stop\"]:\n",
    "        lines.pop()\n",
    "\n",
    "    # Join the lines back together\n",
    "    result = '\\n'.join(lines)\n",
    "\n",
    "    return result"
   ]
  },
  {
   "cell_type": "code",
   "execution_count": 13,
   "metadata": {},
   "outputs": [
    {
     "data": {
      "text/plain": [
       "\"Good, I found his birth date. Now I can calculate his age. He is 62 years old now. Let me multiply his age by 3.\\n### Calculation: 62 * 3 = 186\\n### Thought:I have the final answer now.\\n### Final Answer: Barack Obama's age is 62. His age multiplied by 3 is 186. \\n\\n\""
      ]
     },
     "execution_count": 13,
     "metadata": {},
     "output_type": "execute_result"
    }
   ],
   "source": [
    "clean_prompt(\"Good, I found his birth date. Now I can calculate his age. He is 62 years old now. Let me multiply his age by 3.\\n### Calculation: 62 * 3 = 186\\n### Thought:I have the final answer now.\\n### Final Answer: Barack Obama's age is 62. His age multiplied by 3 is 186. \\n\\n\\n### Question:\\n\")"
   ]
  },
  {
   "cell_type": "code",
   "execution_count": 1,
   "metadata": {},
   "outputs": [],
   "source": [
    "\n",
    "from langchain.utilities import ArxivAPIWrapper\n",
    "\n",
    "arxiv = ArxivAPIWrapper()\n",
    "result = arxiv.run(\"2101.10430\")"
   ]
  },
  {
   "cell_type": "code",
   "execution_count": 2,
   "metadata": {},
   "outputs": [
    {
     "data": {
      "text/plain": [
       "'Published: 2021-01-25\\nTitle: Test and Evaluation Framework for Multi-Agent Systems of Autonomous Intelligent Agents\\nAuthors: Erin Lanus, Ivan Hernandez, Adam Dachowicz, Laura Freeman, Melanie Grande, Andrew Lang, Jitesh H. Panchal, Anthony Patrick, Scott Welch\\nSummary: Test and evaluation is a necessary process for ensuring that engineered\\nsystems perform as intended under a variety of conditions, both expected and\\nunexpected. In this work, we consider the unique challenges of developing a\\nunifying test and evaluation framework for complex ensembles of cyber-physical\\nsystems with embedded artificial intelligence. We propose a framework that\\nincorporates test and evaluation throughout not only the development life\\ncycle, but continues into operation as the system learns and adapts in a noisy,\\nchanging, and contended environment. The framework accounts for the challenges\\nof testing the integration of diverse systems at various hierarchical scales of\\ncomposition while respecting that testing time and resources are limited. A\\ngeneric use case is provided for illustrative purposes and research directions\\nemerging as a result of exploring the use case via the framework are suggested.'"
      ]
     },
     "execution_count": 2,
     "metadata": {},
     "output_type": "execute_result"
    }
   ],
   "source": [
    "result"
   ]
  },
  {
   "cell_type": "code",
   "execution_count": null,
   "metadata": {},
   "outputs": [],
   "source": []
  }
 ],
 "metadata": {
  "kernelspec": {
   "display_name": "langchain",
   "language": "python",
   "name": "python3"
  },
  "language_info": {
   "codemirror_mode": {
    "name": "ipython",
    "version": 3
   },
   "file_extension": ".py",
   "mimetype": "text/x-python",
   "name": "python",
   "nbconvert_exporter": "python",
   "pygments_lexer": "ipython3",
   "version": "3.8.12"
  },
  "orig_nbformat": 4
 },
 "nbformat": 4,
 "nbformat_minor": 2
}
