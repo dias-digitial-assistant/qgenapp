{
 "cells": [
  {
   "cell_type": "code",
   "execution_count": 64,
   "metadata": {},
   "outputs": [],
   "source": [
    "# Steps\n",
    "# Connect to the Vicuna model to generate the questions\n",
    "import os\n",
    "import openai\n",
    "from dotenv import load_dotenv\n",
    "load_dotenv()\n",
    "from langchain.llms.base import LLM, BaseLanguageModel\n",
    "from typing import Optional, List, Mapping, Any\n",
    "import requests\n",
    "import json\n",
    "from collections import deque\n",
    "TOGETHER_AI_BEARER_TOKEN= os.getenv(\"TOGETHER_AI_BEARER_TOKEN\") # Bitte hier den API Key von TogetherAI eintragen\n",
    "openai.api_key = os.getenv(\"OPENAI_API_KEY\") # Bitte hier den API Key von OpenAI eintragen\n",
    "\n",
    "\n",
    "class TogetherLLM(LLM):\n",
    "    bearerToken:str \n",
    "    server_url:str = \"https://api.together.xyz/inference\"\n",
    "    pload={\n",
    "        \"model\": \"togethercomputer/llama-2-70b-chat\",\n",
    "        \"max_tokens\": 500,\n",
    "        \"prompt\": \"Hi, how are you?\",\n",
    "        \"request_type\": \"language-model-inference\",\n",
    "        \"temperature\": 0.0,\n",
    "        \"top_p\": 0.7,\n",
    "        \"top_k\": 50,\n",
    "        \"repetition_penalty\": 1,\n",
    "        \"stop\": [\n",
    "            \"\\n### Benutzer:\"\n",
    "        ],\n",
    "        \"safety_model\": \"\",\n",
    "        \"repetitive_penalty\": 1,\n",
    "        \"update_at\": \"2023-09-11T13:47:21.562Z\"\n",
    "    }\n",
    "    \n",
    "    model:str = \"togethercomputer/llama-2-70b-chat\"\n",
    "    @property\n",
    "    def _llm_type(self) -> str:\n",
    "        \n",
    "        return \"vicuna\"\n",
    "    \n",
    "    def _call(self, prompt: str, stop: Optional[List[str]] = None) -> str:\n",
    "        self.pload[\"prompt\"] = prompt\n",
    "        if stop is None or len(stop) == 0:\n",
    "            stop = [\"\\n### Benutzer:\"]\n",
    "        #self.pload[\"stop\"] = stop[0]\n",
    "        self.pload[\"model\"] = self.model\n",
    "        return self.ask_chatbot_without_stream(self.pload)\n",
    "\n",
    "      \n",
    "    def ask_chatbot_without_stream(self, pload):\n",
    "        headers={\"Authorization\": f\"Bearer {self.bearerToken}\"}\n",
    "        response = requests.post(\n",
    "            self.server_url,\n",
    "            json=pload,\n",
    "            headers=headers\n",
    "        )\n",
    "        if response.status_code == 200:\n",
    "            return(response.json()['output']['choices'][0]['text'].strip())\n",
    "        else:\n",
    "            return(\"Error in generation \"+ response.status_code)"
   ]
  },
  {
   "cell_type": "code",
   "execution_count": 65,
   "metadata": {},
   "outputs": [],
   "source": [
    "llm = TogetherLLM(bearerToken=TOGETHER_AI_BEARER_TOKEN)"
   ]
  },
  {
   "cell_type": "code",
   "execution_count": 66,
   "metadata": {},
   "outputs": [],
   "source": [
    "def generate_questions(prompt:str, paragraph:str):\n",
    "    prompt_full = \"### Benutzer:\" + prompt + \"\\nAbsatz:\" +paragraph + \"\\n### Assistant: Hier sind die Fragen:\\n 1.\"\n",
    "    return llm(prompt_full,stop=[\"\\n### Benutzer:\"])"
   ]
  },
  {
   "cell_type": "code",
   "execution_count": 67,
   "metadata": {},
   "outputs": [],
   "source": [
    "def get_completion(prompt, model=\"gpt-4\"):\n",
    "    messages = [{\"role\": \"user\", \"content\": prompt}]\n",
    "    response = openai.ChatCompletion.create(\n",
    "        model=model,\n",
    "        messages=messages,\n",
    "        temperature=0,\n",
    "    )\n",
    "    return response.choices[0].message[\"content\"]\n"
   ]
  },
  {
   "cell_type": "code",
   "execution_count": 73,
   "metadata": {},
   "outputs": [],
   "source": [
    "prompt = \"Du bist der Assistent, du machst genau was der Benutzer sagt. Bitte generiere maximal 10 Fragen, die der Benutzer mit Hilfe des Absatzes beantworten kann und deren Antworten jeweils aus einem Satz bestehen. Achte darauf dass sie immer Fragen sind. Die Fragen sollten immer kurz und knapp sein. Beginne mit Definitionen.\""
   ]
  },
  {
   "cell_type": "code",
   "execution_count": 86,
   "metadata": {},
   "outputs": [],
   "source": [
    "paragraph =\"Johann Wolfgang von Goethe wurde am 28. August 1749 im Goetheschen Familienhaus (dem heutigen Goethe-Haus) am Frankfurter Großen Hirschgraben geboren und tags darauf evangelisch getauft. Sein Rufname war Wolfgang. Sein aus Thüringen stammender Großvater Friedrich Georg Göthe (1657–1730) hatte sich 1687 als Schneidermeister in Frankfurt niedergelassen und die Schreibweise des Familiennamens geändert.[2] Später bot sich ihm die Gelegenheit, in ein florierendes Gasthaus- und Herbergsgeschäft einzuheiraten. Als Gastwirt und Weinhändler war er zu einem ansehnlichen Vermögen gekommen, das er in Gestalt von Immobilien, Hypothekarkrediten und mehreren Säcken voller Geld seinen beiden Söhnen aus erster Ehe und dem jüngsten Sohn Johann Caspar Goethe (1710–1782), Johann Wolfgang Goethes Vater, hinterließ.[3] Goethes Vater hatte zwar an der Leipziger Universität den Doktorgrad der Jurisprudenz erworben, übte aber keinen juristischen Beruf aus. Mit dem Ehrentitel „Kaiserlicher Rat“ stieg er in die Frankfurter Oberschicht auf. Als Rentier lebte er von den Erträgen seines ererbten Vermögens, das später auch dem Sohn Leben und Studium ohne finanzielle Zwänge ermöglichen sollte.[4] Er war vielseitig interessiert und gebildet, jedoch auch streng und pedantisch, was wiederholt zu Konflikten in der Familie führte.\""
   ]
  },
  {
   "cell_type": "code",
   "execution_count": 87,
   "metadata": {},
   "outputs": [],
   "source": [
    "questions = generate_questions(prompt,paragraph)"
   ]
  },
  {
   "cell_type": "code",
   "execution_count": 88,
   "metadata": {},
   "outputs": [],
   "source": [
    "questions = \" 1. \" + questions "
   ]
  },
  {
   "cell_type": "code",
   "execution_count": 89,
   "metadata": {},
   "outputs": [
    {
     "data": {
      "text/plain": [
       "' 1. Wann wurde Johann Wolfgang von Goethe geboren?\\n 2. Wo wurde Johann Wolfgang von Goethe geboren?\\n 3. Welchen Rufnamen hatte Johann Wolfgang von Goethe?\\n 4. Woher stammte Goethes Großvater?\\n 5. Was war der Beruf von Goethes Vater?\\n 6. Welchen Ehrentitel trug Goethes Vater?\\n 7. Wie lebte Goethes Vater?\\n 8. Was ermöglichte Goethes Vater dem Sohn?\\n 9. Was war Goethes Vater?\\n 10. Wie war Goethes Vater?\\n### Benutzer:'"
      ]
     },
     "execution_count": 89,
     "metadata": {},
     "output_type": "execute_result"
    }
   ],
   "source": [
    "questions"
   ]
  },
  {
   "cell_type": "code",
   "execution_count": 90,
   "metadata": {},
   "outputs": [],
   "source": [
    "questions_list = questions.split(\"\\n\")"
   ]
  },
  {
   "cell_type": "code",
   "execution_count": 91,
   "metadata": {},
   "outputs": [
    {
     "data": {
      "text/plain": [
       "[' 1. Wann wurde Johann Wolfgang von Goethe geboren?',\n",
       " ' 2. Wo wurde Johann Wolfgang von Goethe geboren?',\n",
       " ' 3. Welchen Rufnamen hatte Johann Wolfgang von Goethe?',\n",
       " ' 4. Woher stammte Goethes Großvater?',\n",
       " ' 5. Was war der Beruf von Goethes Vater?',\n",
       " ' 6. Welchen Ehrentitel trug Goethes Vater?',\n",
       " ' 7. Wie lebte Goethes Vater?',\n",
       " ' 8. Was ermöglichte Goethes Vater dem Sohn?',\n",
       " ' 9. Was war Goethes Vater?',\n",
       " ' 10. Wie war Goethes Vater?',\n",
       " '### Benutzer:']"
      ]
     },
     "execution_count": 91,
     "metadata": {},
     "output_type": "execute_result"
    }
   ],
   "source": [
    "questions_list"
   ]
  },
  {
   "cell_type": "code",
   "execution_count": 92,
   "metadata": {},
   "outputs": [
    {
     "data": {
      "text/plain": [
       "'### Benutzer:'"
      ]
     },
     "execution_count": 92,
     "metadata": {},
     "output_type": "execute_result"
    }
   ],
   "source": [
    "questions_list.pop()"
   ]
  },
  {
   "cell_type": "code",
   "execution_count": 93,
   "metadata": {},
   "outputs": [],
   "source": [
    "filtered_list = [x for x in questions_list if x != '']"
   ]
  },
  {
   "cell_type": "code",
   "execution_count": 94,
   "metadata": {},
   "outputs": [
    {
     "data": {
      "text/plain": [
       "[' 1. Wann wurde Johann Wolfgang von Goethe geboren?',\n",
       " ' 2. Wo wurde Johann Wolfgang von Goethe geboren?',\n",
       " ' 3. Welchen Rufnamen hatte Johann Wolfgang von Goethe?',\n",
       " ' 4. Woher stammte Goethes Großvater?',\n",
       " ' 5. Was war der Beruf von Goethes Vater?',\n",
       " ' 6. Welchen Ehrentitel trug Goethes Vater?',\n",
       " ' 7. Wie lebte Goethes Vater?',\n",
       " ' 8. Was ermöglichte Goethes Vater dem Sohn?',\n",
       " ' 9. Was war Goethes Vater?',\n",
       " ' 10. Wie war Goethes Vater?']"
      ]
     },
     "execution_count": 94,
     "metadata": {},
     "output_type": "execute_result"
    }
   ],
   "source": [
    "filtered_list"
   ]
  },
  {
   "cell_type": "code",
   "execution_count": 95,
   "metadata": {},
   "outputs": [],
   "source": [
    "eval_prompt ='Ich gebe dir den Kontext, die Frage und die Antwort. Bewerte die Antwort, indem du die Wahrscheinlichkeiten für die Klassen in einer neuen Zeile angibst, wobei die Wahrscheinlichkeiten zwischen 0 und 1 liegt. Die Klassen sind - Contradiction für widersprüchlich oder falsch, Neutral und Entailment für richtig. Gebe auch den Grund für die Punktzahl an. Gebe mir die Ausgabe in einem json-String bestehend aus {\"contradiction\":value, \"neutral\":value, \"entailment\": value, \"reasoning_behind_grading\": value}. Gebe eine nachvollziehbare Erklärung für die vergebene Bewertung und hilfreiche Hinweise, wie die Antwort verbessert werden kann. Die Begründung soll eloquent und auf Deutsch sein. Es wird nur die Ausgabe von json-Strings akzeptiert, kein zusätzlicher Text. Die Summe der Wahrscheinlichkeiten aller Klassen sollte 1 sein.'"
   ]
  },
  {
   "cell_type": "code",
   "execution_count": 96,
   "metadata": {},
   "outputs": [],
   "source": [
    "def evaluate(eval_prompt:str, question:str, paragraph:str, user_answer:str):\n",
    "    prompt_full = eval_prompt + \"\\nFrage: \" + question + \"\\nAbsatz: \" + paragraph + \"\\nAntwort von Benutzer: \" + user_answer\n",
    "    bewertung = get_completion(prompt_full)\n",
    "    return bewertung\n"
   ]
  },
  {
   "cell_type": "code",
   "execution_count": 111,
   "metadata": {},
   "outputs": [],
   "source": [
    "frage_nummer = 0 # Bitte Wählen Sie eine Frage aus der Liste aus\n",
    "mein_antwort =\"Johann Wolfgang von Goethe wurde im 1749 geboren.\" # Bitte geben Sie Ihre Antwort ein\n",
    "\n"
   ]
  },
  {
   "cell_type": "code",
   "execution_count": 112,
   "metadata": {},
   "outputs": [],
   "source": [
    "json_ans = evaluate(eval_prompt, questions_list[frage_nummer], paragraph, mein_antwort)"
   ]
  },
  {
   "cell_type": "code",
   "execution_count": 114,
   "metadata": {},
   "outputs": [
    {
     "data": {
      "text/plain": [
       "str"
      ]
     },
     "execution_count": 114,
     "metadata": {},
     "output_type": "execute_result"
    }
   ],
   "source": [
    "type(json_ans)"
   ]
  },
  {
   "cell_type": "code",
   "execution_count": 115,
   "metadata": {},
   "outputs": [],
   "source": [
    "import json\n",
    "json_ans = json.loads(json_ans) if type(json_ans) == str else json_ans"
   ]
  },
  {
   "cell_type": "code",
   "execution_count": 116,
   "metadata": {},
   "outputs": [
    {
     "data": {
      "application/json": {
       "contradiction": 0,
       "entailment": 1,
       "neutral": 0,
       "reasoning_behind_grading": "Die Antwort des Benutzers ist korrekt und stimmt mit den Informationen im Absatz überein. Johann Wolfgang von Goethe wurde tatsächlich 1749 geboren. Daher ist die Klasse 'Entailment' mit einer Wahrscheinlichkeit von 1 zutreffend. Es gibt keine Widersprüche oder Neutralität in der Antwort. Die Antwort könnte verbessert werden, indem das genaue Datum (28. August) der Geburt hinzugefügt wird."
      },
      "text/plain": [
       "<IPython.core.display.JSON object>"
      ]
     },
     "execution_count": 116,
     "metadata": {
      "application/json": {
       "expanded": false,
       "root": "root"
      }
     },
     "output_type": "execute_result"
    }
   ],
   "source": [
    "from IPython.display import JSON\n",
    "JSON(json_ans)"
   ]
  },
  {
   "cell_type": "code",
   "execution_count": 117,
   "metadata": {},
   "outputs": [
    {
     "data": {
      "application/json": {
       "Bewertung": {
        "contradiction": 0,
        "entailment": 1,
        "neutral": 0,
        "reasoning_behind_grading": "Die Antwort des Benutzers ist korrekt und stimmt mit den Informationen im Absatz überein. Johann Wolfgang von Goethe wurde tatsächlich 1749 geboren. Daher ist die Klasse 'Entailment' mit einer Wahrscheinlichkeit von 1 zutreffend. Es gibt keine Widersprüche oder Neutralität in der Antwort. Die Antwort könnte verbessert werden, indem das genaue Datum (28. August) der Geburt hinzugefügt wird."
       },
       "Deine_Antwort": "Johann Wolfgang von Goethe wurde im 1749 geboren.",
       "Deine_Frage": " 1. Wann wurde Johann Wolfgang von Goethe geboren?"
      },
      "text/plain": [
       "<IPython.core.display.JSON object>"
      ]
     },
     "execution_count": 117,
     "metadata": {
      "application/json": {
       "expanded": false,
       "root": "root"
      }
     },
     "output_type": "execute_result"
    }
   ],
   "source": [
    "\n",
    "# Zusammenfassung\n",
    "JSON({\"Deine_Frage\":questions_list[frage_nummer],\"Deine_Antwort\":mein_antwort,\"Bewertung\":json_ans})"
   ]
  },
  {
   "cell_type": "code",
   "execution_count": null,
   "metadata": {},
   "outputs": [],
   "source": []
  }
 ],
 "metadata": {
  "kernelspec": {
   "display_name": "langchain",
   "language": "python",
   "name": "python3"
  },
  "language_info": {
   "codemirror_mode": {
    "name": "ipython",
    "version": 3
   },
   "file_extension": ".py",
   "mimetype": "text/x-python",
   "name": "python",
   "nbconvert_exporter": "python",
   "pygments_lexer": "ipython3",
   "version": "3.8.12"
  },
  "orig_nbformat": 4
 },
 "nbformat": 4,
 "nbformat_minor": 2
}
